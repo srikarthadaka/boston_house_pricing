{
 "cells": [
  {
   "cell_type": "code",
   "execution_count": 1,
   "id": "674a9917",
   "metadata": {
    "execution": {
     "iopub.execute_input": "2022-12-31T08:27:28.342179Z",
     "iopub.status.busy": "2022-12-31T08:27:28.341109Z",
     "iopub.status.idle": "2022-12-31T08:27:29.440949Z",
     "shell.execute_reply": "2022-12-31T08:27:29.439714Z"
    },
    "id": "P6D1YCDXy_l-",
    "papermill": {
     "duration": 1.113002,
     "end_time": "2022-12-31T08:27:29.444067",
     "exception": false,
     "start_time": "2022-12-31T08:27:28.331065",
     "status": "completed"
    },
    "tags": []
   },
   "outputs": [],
   "source": [
    "import pandas as pd\n",
    "import numpy as np\n",
    "import matplotlib.pyplot as plt\n",
    "import seaborn as sns"
   ]
  },
  {
   "cell_type": "code",
   "execution_count": 2,
   "id": "ac6bb276",
   "metadata": {
    "execution": {
     "iopub.execute_input": "2022-12-31T08:27:29.461133Z",
     "iopub.status.busy": "2022-12-31T08:27:29.460742Z",
     "iopub.status.idle": "2022-12-31T08:27:29.473590Z",
     "shell.execute_reply": "2022-12-31T08:27:29.472163Z"
    },
    "papermill": {
     "duration": 0.024154,
     "end_time": "2022-12-31T08:27:29.476199",
     "exception": false,
     "start_time": "2022-12-31T08:27:29.452045",
     "status": "completed"
    },
    "tags": []
   },
   "outputs": [
    {
     "name": "stdout",
     "output_type": "stream",
     "text": [
      "/kaggle/input/SalaryData/SalaryData_Test(1).csv\n",
      "/kaggle/input/SalaryData/SalaryData_Train(1).csv\n"
     ]
    }
   ],
   "source": [
    "import os\n",
    "for dirname, _, filenames in os.walk('/kaggle/input'):\n",
    "    for filename in filenames:\n",
    "        print(os.path.join(dirname, filename))"
   ]
  },
  {
   "cell_type": "code",
   "execution_count": 3,
   "id": "080bbb54",
   "metadata": {
    "execution": {
     "iopub.execute_input": "2022-12-31T08:27:29.493141Z",
     "iopub.status.busy": "2022-12-31T08:27:29.492755Z",
     "iopub.status.idle": "2022-12-31T08:27:29.497790Z",
     "shell.execute_reply": "2022-12-31T08:27:29.496654Z"
    },
    "id": "jUX-J37OzB8k",
    "outputId": "bdc39d4a-008c-43c2-aeef-dee0584dc1af",
    "papermill": {
     "duration": 0.016192,
     "end_time": "2022-12-31T08:27:29.500109",
     "exception": false,
     "start_time": "2022-12-31T08:27:29.483917",
     "status": "completed"
    },
    "tags": []
   },
   "outputs": [],
   "source": [
    "# df_train = pd.read_csv('D:\\DS Files\\Assignments\\Support Vector Machine\\SalaryData_Train(1).csv')\n",
    "\n",
    "#from google.colab import files\n",
    "#uploaded = files.upload()\n"
   ]
  },
  {
   "cell_type": "code",
   "execution_count": 4,
   "id": "89e1f68f",
   "metadata": {
    "execution": {
     "iopub.execute_input": "2022-12-31T08:27:29.516694Z",
     "iopub.status.busy": "2022-12-31T08:27:29.516223Z",
     "iopub.status.idle": "2022-12-31T08:27:29.588643Z",
     "shell.execute_reply": "2022-12-31T08:27:29.587494Z"
    },
    "id": "G6tkWoWUzhMb",
    "outputId": "21c1098f-44ab-4ef6-cb91-7d381d894454",
    "papermill": {
     "duration": 0.083459,
     "end_time": "2022-12-31T08:27:29.590981",
     "exception": false,
     "start_time": "2022-12-31T08:27:29.507522",
     "status": "completed"
    },
    "tags": []
   },
   "outputs": [
    {
     "data": {
      "text/plain": [
       "(15060, 14)"
      ]
     },
     "execution_count": 4,
     "metadata": {},
     "output_type": "execute_result"
    }
   ],
   "source": [
    "df_train = pd.read_csv(\"/kaggle/input/SalaryData/SalaryData_Test(1).csv\")\n",
    "df_train.shape"
   ]
  },
  {
   "cell_type": "code",
   "execution_count": 5,
   "id": "569f2628",
   "metadata": {
    "execution": {
     "iopub.execute_input": "2022-12-31T08:27:29.608768Z",
     "iopub.status.busy": "2022-12-31T08:27:29.608333Z",
     "iopub.status.idle": "2022-12-31T08:27:29.630645Z",
     "shell.execute_reply": "2022-12-31T08:27:29.629560Z"
    },
    "id": "rnsYfcTnzuR5",
    "outputId": "e89e6c28-21c9-461e-bac3-f8cb22bb2c6e",
    "papermill": {
     "duration": 0.03444,
     "end_time": "2022-12-31T08:27:29.633151",
     "exception": false,
     "start_time": "2022-12-31T08:27:29.598711",
     "status": "completed"
    },
    "tags": []
   },
   "outputs": [
    {
     "data": {
      "text/html": [
       "<div>\n",
       "<style scoped>\n",
       "    .dataframe tbody tr th:only-of-type {\n",
       "        vertical-align: middle;\n",
       "    }\n",
       "\n",
       "    .dataframe tbody tr th {\n",
       "        vertical-align: top;\n",
       "    }\n",
       "\n",
       "    .dataframe thead th {\n",
       "        text-align: right;\n",
       "    }\n",
       "</style>\n",
       "<table border=\"1\" class=\"dataframe\">\n",
       "  <thead>\n",
       "    <tr style=\"text-align: right;\">\n",
       "      <th></th>\n",
       "      <th>age</th>\n",
       "      <th>workclass</th>\n",
       "      <th>education</th>\n",
       "      <th>educationno</th>\n",
       "      <th>maritalstatus</th>\n",
       "      <th>occupation</th>\n",
       "      <th>relationship</th>\n",
       "      <th>race</th>\n",
       "      <th>sex</th>\n",
       "      <th>capitalgain</th>\n",
       "      <th>capitalloss</th>\n",
       "      <th>hoursperweek</th>\n",
       "      <th>native</th>\n",
       "      <th>Salary</th>\n",
       "    </tr>\n",
       "  </thead>\n",
       "  <tbody>\n",
       "    <tr>\n",
       "      <th>0</th>\n",
       "      <td>25</td>\n",
       "      <td>Private</td>\n",
       "      <td>11th</td>\n",
       "      <td>7</td>\n",
       "      <td>Never-married</td>\n",
       "      <td>Machine-op-inspct</td>\n",
       "      <td>Own-child</td>\n",
       "      <td>Black</td>\n",
       "      <td>Male</td>\n",
       "      <td>0</td>\n",
       "      <td>0</td>\n",
       "      <td>40</td>\n",
       "      <td>United-States</td>\n",
       "      <td>&lt;=50K</td>\n",
       "    </tr>\n",
       "    <tr>\n",
       "      <th>1</th>\n",
       "      <td>38</td>\n",
       "      <td>Private</td>\n",
       "      <td>HS-grad</td>\n",
       "      <td>9</td>\n",
       "      <td>Married-civ-spouse</td>\n",
       "      <td>Farming-fishing</td>\n",
       "      <td>Husband</td>\n",
       "      <td>White</td>\n",
       "      <td>Male</td>\n",
       "      <td>0</td>\n",
       "      <td>0</td>\n",
       "      <td>50</td>\n",
       "      <td>United-States</td>\n",
       "      <td>&lt;=50K</td>\n",
       "    </tr>\n",
       "    <tr>\n",
       "      <th>2</th>\n",
       "      <td>28</td>\n",
       "      <td>Local-gov</td>\n",
       "      <td>Assoc-acdm</td>\n",
       "      <td>12</td>\n",
       "      <td>Married-civ-spouse</td>\n",
       "      <td>Protective-serv</td>\n",
       "      <td>Husband</td>\n",
       "      <td>White</td>\n",
       "      <td>Male</td>\n",
       "      <td>0</td>\n",
       "      <td>0</td>\n",
       "      <td>40</td>\n",
       "      <td>United-States</td>\n",
       "      <td>&gt;50K</td>\n",
       "    </tr>\n",
       "    <tr>\n",
       "      <th>3</th>\n",
       "      <td>44</td>\n",
       "      <td>Private</td>\n",
       "      <td>Some-college</td>\n",
       "      <td>10</td>\n",
       "      <td>Married-civ-spouse</td>\n",
       "      <td>Machine-op-inspct</td>\n",
       "      <td>Husband</td>\n",
       "      <td>Black</td>\n",
       "      <td>Male</td>\n",
       "      <td>7688</td>\n",
       "      <td>0</td>\n",
       "      <td>40</td>\n",
       "      <td>United-States</td>\n",
       "      <td>&gt;50K</td>\n",
       "    </tr>\n",
       "    <tr>\n",
       "      <th>4</th>\n",
       "      <td>34</td>\n",
       "      <td>Private</td>\n",
       "      <td>10th</td>\n",
       "      <td>6</td>\n",
       "      <td>Never-married</td>\n",
       "      <td>Other-service</td>\n",
       "      <td>Not-in-family</td>\n",
       "      <td>White</td>\n",
       "      <td>Male</td>\n",
       "      <td>0</td>\n",
       "      <td>0</td>\n",
       "      <td>30</td>\n",
       "      <td>United-States</td>\n",
       "      <td>&lt;=50K</td>\n",
       "    </tr>\n",
       "  </tbody>\n",
       "</table>\n",
       "</div>"
      ],
      "text/plain": [
       "   age   workclass      education  educationno        maritalstatus  \\\n",
       "0   25     Private           11th            7        Never-married   \n",
       "1   38     Private        HS-grad            9   Married-civ-spouse   \n",
       "2   28   Local-gov     Assoc-acdm           12   Married-civ-spouse   \n",
       "3   44     Private   Some-college           10   Married-civ-spouse   \n",
       "4   34     Private           10th            6        Never-married   \n",
       "\n",
       "           occupation    relationship    race    sex  capitalgain  \\\n",
       "0   Machine-op-inspct       Own-child   Black   Male            0   \n",
       "1     Farming-fishing         Husband   White   Male            0   \n",
       "2     Protective-serv         Husband   White   Male            0   \n",
       "3   Machine-op-inspct         Husband   Black   Male         7688   \n",
       "4       Other-service   Not-in-family   White   Male            0   \n",
       "\n",
       "   capitalloss  hoursperweek          native  Salary  \n",
       "0            0            40   United-States   <=50K  \n",
       "1            0            50   United-States   <=50K  \n",
       "2            0            40   United-States    >50K  \n",
       "3            0            40   United-States    >50K  \n",
       "4            0            30   United-States   <=50K  "
      ]
     },
     "execution_count": 5,
     "metadata": {},
     "output_type": "execute_result"
    }
   ],
   "source": [
    "df_train.head()"
   ]
  },
  {
   "cell_type": "code",
   "execution_count": 6,
   "id": "49b5ae92",
   "metadata": {
    "execution": {
     "iopub.execute_input": "2022-12-31T08:27:29.652793Z",
     "iopub.status.busy": "2022-12-31T08:27:29.651873Z",
     "iopub.status.idle": "2022-12-31T08:27:29.683618Z",
     "shell.execute_reply": "2022-12-31T08:27:29.682186Z"
    },
    "id": "EZQhJWR7zwn4",
    "outputId": "da68847b-8dce-47d1-97e4-5794d520c9c6",
    "papermill": {
     "duration": 0.045147,
     "end_time": "2022-12-31T08:27:29.686441",
     "exception": false,
     "start_time": "2022-12-31T08:27:29.641294",
     "status": "completed"
    },
    "tags": []
   },
   "outputs": [
    {
     "name": "stdout",
     "output_type": "stream",
     "text": [
      "<class 'pandas.core.frame.DataFrame'>\n",
      "RangeIndex: 15060 entries, 0 to 15059\n",
      "Data columns (total 14 columns):\n",
      " #   Column         Non-Null Count  Dtype \n",
      "---  ------         --------------  ----- \n",
      " 0   age            15060 non-null  int64 \n",
      " 1   workclass      15060 non-null  object\n",
      " 2   education      15060 non-null  object\n",
      " 3   educationno    15060 non-null  int64 \n",
      " 4   maritalstatus  15060 non-null  object\n",
      " 5   occupation     15060 non-null  object\n",
      " 6   relationship   15060 non-null  object\n",
      " 7   race           15060 non-null  object\n",
      " 8   sex            15060 non-null  object\n",
      " 9   capitalgain    15060 non-null  int64 \n",
      " 10  capitalloss    15060 non-null  int64 \n",
      " 11  hoursperweek   15060 non-null  int64 \n",
      " 12  native         15060 non-null  object\n",
      " 13  Salary         15060 non-null  object\n",
      "dtypes: int64(5), object(9)\n",
      "memory usage: 1.6+ MB\n"
     ]
    }
   ],
   "source": [
    "df_train.info()"
   ]
  },
  {
   "cell_type": "code",
   "execution_count": 7,
   "id": "15e0a0dc",
   "metadata": {
    "execution": {
     "iopub.execute_input": "2022-12-31T08:27:29.704398Z",
     "iopub.status.busy": "2022-12-31T08:27:29.703996Z",
     "iopub.status.idle": "2022-12-31T08:27:29.719067Z",
     "shell.execute_reply": "2022-12-31T08:27:29.717939Z"
    },
    "id": "Px-W-Qn2zyty",
    "outputId": "30e72b77-57ab-4ba6-8ae0-d2116b69b570",
    "papermill": {
     "duration": 0.026747,
     "end_time": "2022-12-31T08:27:29.721476",
     "exception": false,
     "start_time": "2022-12-31T08:27:29.694729",
     "status": "completed"
    },
    "tags": []
   },
   "outputs": [
    {
     "data": {
      "text/plain": [
       "age              0\n",
       "workclass        0\n",
       "education        0\n",
       "educationno      0\n",
       "maritalstatus    0\n",
       "occupation       0\n",
       "relationship     0\n",
       "race             0\n",
       "sex              0\n",
       "capitalgain      0\n",
       "capitalloss      0\n",
       "hoursperweek     0\n",
       "native           0\n",
       "Salary           0\n",
       "dtype: int64"
      ]
     },
     "execution_count": 7,
     "metadata": {},
     "output_type": "execute_result"
    }
   ],
   "source": [
    "df_train.isnull().sum()"
   ]
  },
  {
   "cell_type": "code",
   "execution_count": 8,
   "id": "9f21b1e8",
   "metadata": {
    "execution": {
     "iopub.execute_input": "2022-12-31T08:27:29.740375Z",
     "iopub.status.busy": "2022-12-31T08:27:29.739954Z",
     "iopub.status.idle": "2022-12-31T08:27:29.763663Z",
     "shell.execute_reply": "2022-12-31T08:27:29.762165Z"
    },
    "id": "MiXIyvZ4z03k",
    "outputId": "55caa1f9-6ac1-4498-f172-753f4fd89dbc",
    "papermill": {
     "duration": 0.037487,
     "end_time": "2022-12-31T08:27:29.767745",
     "exception": false,
     "start_time": "2022-12-31T08:27:29.730258",
     "status": "completed"
    },
    "tags": []
   },
   "outputs": [
    {
     "data": {
      "text/plain": [
       "930"
      ]
     },
     "execution_count": 8,
     "metadata": {},
     "output_type": "execute_result"
    }
   ],
   "source": [
    "df_train.duplicated().sum()"
   ]
  },
  {
   "cell_type": "code",
   "execution_count": 9,
   "id": "524cc16f",
   "metadata": {
    "execution": {
     "iopub.execute_input": "2022-12-31T08:27:29.792296Z",
     "iopub.status.busy": "2022-12-31T08:27:29.791743Z",
     "iopub.status.idle": "2022-12-31T08:27:29.840572Z",
     "shell.execute_reply": "2022-12-31T08:27:29.839530Z"
    },
    "id": "7Yx7Flpwz4Pv",
    "outputId": "c89f4d1b-5454-4fdf-90e4-177f9c2e5133",
    "papermill": {
     "duration": 0.065483,
     "end_time": "2022-12-31T08:27:29.843234",
     "exception": false,
     "start_time": "2022-12-31T08:27:29.777751",
     "status": "completed"
    },
    "tags": []
   },
   "outputs": [
    {
     "data": {
      "text/plain": [
       "0"
      ]
     },
     "execution_count": 9,
     "metadata": {},
     "output_type": "execute_result"
    }
   ],
   "source": [
    "df_train = df_train.drop_duplicates()\n",
    "df_train.duplicated().sum()"
   ]
  },
  {
   "cell_type": "code",
   "execution_count": 10,
   "id": "82926b53",
   "metadata": {
    "execution": {
     "iopub.execute_input": "2022-12-31T08:27:29.862227Z",
     "iopub.status.busy": "2022-12-31T08:27:29.861831Z",
     "iopub.status.idle": "2022-12-31T08:27:29.868906Z",
     "shell.execute_reply": "2022-12-31T08:27:29.867670Z"
    },
    "id": "dUaDNLcmz7sD",
    "outputId": "b70f1077-f3b4-47b1-de53-99f9b23c8a4e",
    "papermill": {
     "duration": 0.019766,
     "end_time": "2022-12-31T08:27:29.871614",
     "exception": false,
     "start_time": "2022-12-31T08:27:29.851848",
     "status": "completed"
    },
    "tags": []
   },
   "outputs": [
    {
     "data": {
      "text/plain": [
       "(14130, 14)"
      ]
     },
     "execution_count": 10,
     "metadata": {},
     "output_type": "execute_result"
    }
   ],
   "source": [
    "df_train.shape"
   ]
  },
  {
   "cell_type": "code",
   "execution_count": 11,
   "id": "ee088351",
   "metadata": {
    "execution": {
     "iopub.execute_input": "2022-12-31T08:27:29.892131Z",
     "iopub.status.busy": "2022-12-31T08:27:29.891001Z",
     "iopub.status.idle": "2022-12-31T08:27:29.914283Z",
     "shell.execute_reply": "2022-12-31T08:27:29.913230Z"
    },
    "id": "cMHJppj4z9hg",
    "outputId": "8bfcab36-dd4a-483d-b72a-74f52de97bad",
    "papermill": {
     "duration": 0.03629,
     "end_time": "2022-12-31T08:27:29.916627",
     "exception": false,
     "start_time": "2022-12-31T08:27:29.880337",
     "status": "completed"
    },
    "tags": []
   },
   "outputs": [
    {
     "data": {
      "text/plain": [
       "age               73\n",
       "workclass          7\n",
       "education         16\n",
       "educationno       16\n",
       "maritalstatus      7\n",
       "occupation        14\n",
       "relationship       6\n",
       "race               5\n",
       "sex                2\n",
       "capitalgain      110\n",
       "capitalloss       79\n",
       "hoursperweek      89\n",
       "native            40\n",
       "Salary             2\n",
       "dtype: int64"
      ]
     },
     "execution_count": 11,
     "metadata": {},
     "output_type": "execute_result"
    }
   ],
   "source": [
    "df_train.nunique()"
   ]
  },
  {
   "cell_type": "code",
   "execution_count": 12,
   "id": "943ffabb",
   "metadata": {
    "execution": {
     "iopub.execute_input": "2022-12-31T08:27:29.938251Z",
     "iopub.status.busy": "2022-12-31T08:27:29.937375Z",
     "iopub.status.idle": "2022-12-31T08:27:29.958970Z",
     "shell.execute_reply": "2022-12-31T08:27:29.957783Z"
    },
    "id": "pwQQAldZ0BaI",
    "outputId": "3dbc1878-b3eb-4e1d-bf0d-4c2a67101ab8",
    "papermill": {
     "duration": 0.035685,
     "end_time": "2022-12-31T08:27:29.962169",
     "exception": false,
     "start_time": "2022-12-31T08:27:29.926484",
     "status": "completed"
    },
    "tags": []
   },
   "outputs": [
    {
     "name": "stdout",
     "output_type": "stream",
     "text": [
      "age\n",
      "\n",
      "[25 38 28 44 34 63 24 55 65 36 26 48 43 20 37 45 22 23 54 32 46 56 17 29\n",
      " 39 52 18 21 42 33 30 47 41 19 69 50 31 59 49 58 40 27 57 61 51 73 53 80\n",
      " 62 35 72 64 68 66 60 67 71 70 90 77 81 74 78 82 75 85 76 89 83 79 88 87\n",
      " 84]\n",
      "\n",
      " ***********************************\n",
      "\n",
      "workclass\n",
      "\n",
      "[' Private' ' Local-gov' ' Self-emp-not-inc' ' Federal-gov' ' State-gov'\n",
      " ' Self-emp-inc' ' Without-pay']\n",
      "\n",
      " ***********************************\n",
      "\n",
      "education\n",
      "\n",
      "[' 11th' ' HS-grad' ' Assoc-acdm' ' Some-college' ' 10th' ' Prof-school'\n",
      " ' 7th-8th' ' Bachelors' ' Masters' ' 5th-6th' ' Assoc-voc' ' 9th'\n",
      " ' Doctorate' ' 12th' ' 1st-4th' ' Preschool']\n",
      "\n",
      " ***********************************\n",
      "\n",
      "educationno\n",
      "\n",
      "[ 7  9 12 10  6 15  4 13 14  3 11  5 16  8  2  1]\n",
      "\n",
      " ***********************************\n",
      "\n",
      "maritalstatus\n",
      "\n",
      "[' Never-married' ' Married-civ-spouse' ' Widowed' ' Separated'\n",
      " ' Divorced' ' Married-spouse-absent' ' Married-AF-spouse']\n",
      "\n",
      " ***********************************\n",
      "\n",
      "occupation\n",
      "\n",
      "[' Machine-op-inspct' ' Farming-fishing' ' Protective-serv'\n",
      " ' Other-service' ' Prof-specialty' ' Craft-repair' ' Adm-clerical'\n",
      " ' Exec-managerial' ' Tech-support' ' Sales' ' Priv-house-serv'\n",
      " ' Transport-moving' ' Handlers-cleaners' ' Armed-Forces']\n",
      "\n",
      " ***********************************\n",
      "\n",
      "relationship\n",
      "\n",
      "[' Own-child' ' Husband' ' Not-in-family' ' Unmarried' ' Wife'\n",
      " ' Other-relative']\n",
      "\n",
      " ***********************************\n",
      "\n",
      "race\n",
      "\n",
      "[' Black' ' White' ' Other' ' Amer-Indian-Eskimo' ' Asian-Pac-Islander']\n",
      "\n",
      " ***********************************\n",
      "\n",
      "sex\n",
      "\n",
      "[' Male' ' Female']\n",
      "\n",
      " ***********************************\n",
      "\n",
      "capitalgain\n",
      "\n",
      "[    0  7688  3103  6418  7298  3908 14084  5178 15024  2597  2907  4650\n",
      "  6497  5013 27828  4934  4064  3674  2174 10605 99999  1055   114  2580\n",
      "  3411  4508  4386  8614 13550  6849  2463  3137  2885  2964  1471 10566\n",
      "  2354  1424  1455  3325  4416 25236  4787  2829  4865  1264  1506   594\n",
      " 10520  3464 20051  4101  1797  2407  3471  2653  1086  1848 14344  1151\n",
      "  2993  2290 15020  9386  2202  3818  2176  5455  3418 11678  7978  7262\n",
      "  6514 41310  3456  7430  2062 34095  1831  6723  5060 15831  2977  2346\n",
      "  3273  2329  9562  2105  2635  2414  4931  1731  6097   914  7896  5556\n",
      "  3781  3942  2538  3887  1409 25124  7443  5721   401  1173  4687  6767\n",
      "   991  2036]\n",
      "\n",
      " ***********************************\n",
      "\n",
      "capitalloss\n",
      "\n",
      "[   0 1721 1876 2415 1887  625 1977 2057 1429 1590 1485 2051 2377 1672\n",
      " 1628 1902 1741 2444 1408 2001 2042 1740 1825 1848 1719 3004 2179 1573\n",
      " 2205 1258 2339 1726 2258 1340 1504 2559 1668 1974 1980 1564 2547 2002\n",
      " 1669 1617  323 1602 3175 2472 1579 2129 1735 2282 1870 1911 1092 1762\n",
      " 2457 2231 2238  653 1138 2246 2603 2392 1510 1944 1380 1421 3770 1594\n",
      "  213 2824 2174 1844 2149 1411 2467 2163 1651]\n",
      "\n",
      " ***********************************\n",
      "\n",
      "hoursperweek\n",
      "\n",
      "[40 50 30 32 10 39 48 25 20 47 35 43 90 54 60 38 45 36 18 24 44 56 28 16\n",
      " 41 22 55 14 33 37 12 70 15 75 52 84 42 80  8 68 99 65 17 72 53 96 21 46\n",
      "  3  1 49 67 76 23  2 58 26 34  4  7 51 78 63  5 31 92 77 27 29 85  6 13\n",
      " 19 98 62 66 57 86 11 59  9 64 73 61 88 79 89 74 69]\n",
      "\n",
      " ***********************************\n",
      "\n",
      "native\n",
      "\n",
      "[' United-States' ' Peru' ' Guatemala' ' Mexico' ' Dominican-Republic'\n",
      " ' Ireland' ' Germany' ' Philippines' ' Thailand' ' Haiti' ' El-Salvador'\n",
      " ' Puerto-Rico' ' Vietnam' ' South' ' Columbia' ' Japan' ' India'\n",
      " ' Cambodia' ' Poland' ' Laos' ' England' ' Cuba' ' Taiwan' ' Italy'\n",
      " ' Canada' ' Portugal' ' China' ' Nicaragua' ' Honduras' ' Iran'\n",
      " ' Scotland' ' Jamaica' ' Ecuador' ' Yugoslavia' ' Hungary' ' Hong'\n",
      " ' Greece' ' Trinadad&Tobago' ' Outlying-US(Guam-USVI-etc)' ' France']\n",
      "\n",
      " ***********************************\n",
      "\n",
      "Salary\n",
      "\n",
      "[' <=50K' ' >50K']\n",
      "\n",
      " ***********************************\n",
      "\n"
     ]
    }
   ],
   "source": [
    "for col in df_train.columns.values:\n",
    "  print(col, end=\"\\n\\n\")\n",
    "  print(df_train[col].unique(), end=\"\\n\\n ***********************************\\n\\n\")"
   ]
  },
  {
   "cell_type": "code",
   "execution_count": 13,
   "id": "6ce7f5d4",
   "metadata": {
    "execution": {
     "iopub.execute_input": "2022-12-31T08:27:29.981981Z",
     "iopub.status.busy": "2022-12-31T08:27:29.981558Z",
     "iopub.status.idle": "2022-12-31T08:27:29.991735Z",
     "shell.execute_reply": "2022-12-31T08:27:29.990438Z"
    },
    "id": "gSdxQG650GGa",
    "outputId": "b2ef93a2-3c68-4b18-9d23-bb346cea8ea8",
    "papermill": {
     "duration": 0.023335,
     "end_time": "2022-12-31T08:27:29.994688",
     "exception": false,
     "start_time": "2022-12-31T08:27:29.971353",
     "status": "completed"
    },
    "tags": []
   },
   "outputs": [
    {
     "name": "stdout",
     "output_type": "stream",
     "text": [
      " HS-grad         4473\n",
      " Some-college    3014\n",
      " Bachelors       2369\n",
      " Masters          864\n",
      " Assoc-voc        634\n",
      " 11th             542\n",
      " Assoc-acdm       493\n",
      " 10th             395\n",
      " 7th-8th          265\n",
      " Prof-school      241\n",
      " 9th              219\n",
      " 12th             194\n",
      " Doctorate        168\n",
      " 5th-6th          161\n",
      " 1st-4th           71\n",
      " Preschool         27\n",
      "Name: education, dtype: int64\n",
      "9     4473\n",
      "10    3014\n",
      "13    2369\n",
      "14     864\n",
      "11     634\n",
      "7      542\n",
      "12     493\n",
      "6      395\n",
      "4      265\n",
      "15     241\n",
      "5      219\n",
      "8      194\n",
      "16     168\n",
      "3      161\n",
      "2       71\n",
      "1       27\n",
      "Name: educationno, dtype: int64\n"
     ]
    }
   ],
   "source": [
    "print(df_train[\"education\"].value_counts())\n",
    "print(df_train[\"educationno\"].value_counts())"
   ]
  },
  {
   "cell_type": "code",
   "execution_count": 14,
   "id": "702e5e77",
   "metadata": {
    "execution": {
     "iopub.execute_input": "2022-12-31T08:27:30.016295Z",
     "iopub.status.busy": "2022-12-31T08:27:30.015309Z",
     "iopub.status.idle": "2022-12-31T08:27:30.028034Z",
     "shell.execute_reply": "2022-12-31T08:27:30.026038Z"
    },
    "id": "pJAfk3cw0POz",
    "outputId": "1e428c76-8c75-4485-aeb8-eaa5e22ddd92",
    "papermill": {
     "duration": 0.025911,
     "end_time": "2022-12-31T08:27:30.030702",
     "exception": false,
     "start_time": "2022-12-31T08:27:30.004791",
     "status": "completed"
    },
    "tags": []
   },
   "outputs": [
    {
     "name": "stdout",
     "output_type": "stream",
     "text": [
      "(14130, 13)\n"
     ]
    },
    {
     "data": {
      "text/plain": [
       "Index(['age', 'workclass', 'educationno', 'maritalstatus', 'occupation',\n",
       "       'relationship', 'race', 'sex', 'capitalgain', 'capitalloss',\n",
       "       'hoursperweek', 'native', 'Salary'],\n",
       "      dtype='object')"
      ]
     },
     "execution_count": 14,
     "metadata": {},
     "output_type": "execute_result"
    }
   ],
   "source": [
    "df_train = df_train.drop([\"education\"], axis=1)\n",
    "print(df_train.shape)\n",
    "df_train.columns"
   ]
  },
  {
   "cell_type": "code",
   "execution_count": 15,
   "id": "1d42d0b5",
   "metadata": {
    "execution": {
     "iopub.execute_input": "2022-12-31T08:27:30.054203Z",
     "iopub.status.busy": "2022-12-31T08:27:30.053783Z",
     "iopub.status.idle": "2022-12-31T08:27:30.059478Z",
     "shell.execute_reply": "2022-12-31T08:27:30.058657Z"
    },
    "id": "DdvhJ5jx0ZwT",
    "papermill": {
     "duration": 0.021889,
     "end_time": "2022-12-31T08:27:30.062680",
     "exception": false,
     "start_time": "2022-12-31T08:27:30.040791",
     "status": "completed"
    },
    "tags": []
   },
   "outputs": [],
   "source": [
    "df_train['capitalgain'] =  df_train['capitalgain'].replace([ 99999 ] , 0)"
   ]
  },
  {
   "cell_type": "code",
   "execution_count": 16,
   "id": "35695950",
   "metadata": {
    "execution": {
     "iopub.execute_input": "2022-12-31T08:27:30.083485Z",
     "iopub.status.busy": "2022-12-31T08:27:30.083085Z",
     "iopub.status.idle": "2022-12-31T08:27:30.374569Z",
     "shell.execute_reply": "2022-12-31T08:27:30.373407Z"
    },
    "id": "XIvU46XZ0cUr",
    "outputId": "3553076b-1994-40a1-821a-081ca79ace5f",
    "papermill": {
     "duration": 0.304755,
     "end_time": "2022-12-31T08:27:30.377004",
     "exception": false,
     "start_time": "2022-12-31T08:27:30.072249",
     "status": "completed"
    },
    "tags": []
   },
   "outputs": [
    {
     "data": {
      "text/plain": [
       "<AxesSubplot:xlabel='capitalloss'>"
      ]
     },
     "execution_count": 16,
     "metadata": {},
     "output_type": "execute_result"
    },
    {
     "data": {
      "image/png": "[encoded data removed]",
      "text/plain": [
       "<Figure size 1440x432 with 2 Axes>"
      ]
     },
     "metadata": {
      "needs_background": "light"
     },
     "output_type": "display_data"
    }
   ],
   "source": [
    "plt.figure(figsize=(20,6))\n",
    "\n",
    "plt.subplot(1,2,1)\n",
    "sns.boxplot(x=df_train[\"capitalgain\"])\n",
    "plt.subplot(1,2,2)\n",
    "sns.boxplot(x=df_train[\"capitalloss\"])"
   ]
  },
  {
   "cell_type": "code",
   "execution_count": 17,
   "id": "e9973241",
   "metadata": {
    "execution": {
     "iopub.execute_input": "2022-12-31T08:27:30.400294Z",
     "iopub.status.busy": "2022-12-31T08:27:30.399831Z",
     "iopub.status.idle": "2022-12-31T08:27:31.196858Z",
     "shell.execute_reply": "2022-12-31T08:27:31.195743Z"
    },
    "id": "vOjz6iah0foU",
    "outputId": "824fdc4e-a8c7-4c9d-b1d1-5a712c7ecc9d",
    "papermill": {
     "duration": 0.811951,
     "end_time": "2022-12-31T08:27:31.199429",
     "exception": false,
     "start_time": "2022-12-31T08:27:30.387478",
     "status": "completed"
    },
    "tags": []
   },
   "outputs": [
    {
     "data": {
      "text/plain": [
       "<seaborn.axisgrid.FacetGrid at 0x7f3cf271c250>"
      ]
     },
     "execution_count": 17,
     "metadata": {},
     "output_type": "execute_result"
    },
    {
     "data": {
      "image/png": "[encoded data removed]",
      "text/plain": [
       "<Figure size 974.875x360 with 1 Axes>"
      ]
     },
     "metadata": {
      "needs_background": "light"
     },
     "output_type": "display_data"
    }
   ],
   "source": [
    "sns.displot(df_train, x='age', hue='Salary', aspect=20/8)"
   ]
  },
  {
   "cell_type": "code",
   "execution_count": 18,
   "id": "00f78908",
   "metadata": {
    "execution": {
     "iopub.execute_input": "2022-12-31T08:27:31.225770Z",
     "iopub.status.busy": "2022-12-31T08:27:31.225055Z",
     "iopub.status.idle": "2022-12-31T08:27:32.515843Z",
     "shell.execute_reply": "2022-12-31T08:27:32.514650Z"
    },
    "id": "6jkeD7N10keK",
    "outputId": "b5f82d14-d98e-4f3b-d00f-3fdc9d3a8e7b",
    "papermill": {
     "duration": 1.307355,
     "end_time": "2022-12-31T08:27:32.518632",
     "exception": false,
     "start_time": "2022-12-31T08:27:31.211277",
     "status": "completed"
    },
    "tags": []
   },
   "outputs": [
    {
     "data": {
      "text/plain": [
       "<AxesSubplot:>"
      ]
     },
     "execution_count": 18,
     "metadata": {},
     "output_type": "execute_result"
    },
    {
     "data": {
      "image/png": "[encoded data removed]",
      "text/plain": [
       "<Figure size 1440x432 with 1 Axes>"
      ]
     },
     "metadata": {
      "needs_background": "light"
     },
     "output_type": "display_data"
    }
   ],
   "source": [
    "temp_df = pd.DataFrame()\n",
    "temp_df['<=50'] = df_train[df_train['Salary'] == ' <=50K']['age'].value_counts()\n",
    "temp_df['>50'] = df_train[df_train['Salary'] == ' >50K']['age'].value_counts()\n",
    "temp_df.plot.bar(figsize=(20,6))"
   ]
  },
  {
   "cell_type": "code",
   "execution_count": 19,
   "id": "925bc18b",
   "metadata": {
    "execution": {
     "iopub.execute_input": "2022-12-31T08:27:32.543318Z",
     "iopub.status.busy": "2022-12-31T08:27:32.542608Z",
     "iopub.status.idle": "2022-12-31T08:27:32.875185Z",
     "shell.execute_reply": "2022-12-31T08:27:32.873959Z"
    },
    "id": "r6dd8Qt_3qf0",
    "outputId": "8fd65d95-d4ca-44fa-9fc1-66914f93313d",
    "papermill": {
     "duration": 0.347576,
     "end_time": "2022-12-31T08:27:32.877794",
     "exception": false,
     "start_time": "2022-12-31T08:27:32.530218",
     "status": "completed"
    },
    "tags": []
   },
   "outputs": [
    {
     "data": {
      "text/plain": [
       "<AxesSubplot:>"
      ]
     },
     "execution_count": 19,
     "metadata": {},
     "output_type": "execute_result"
    },
    {
     "data": {
      "image/png": "[encoded data removed]",
      "text/plain": [
       "<Figure size 1440x432 with 1 Axes>"
      ]
     },
     "metadata": {
      "needs_background": "light"
     },
     "output_type": "display_data"
    }
   ],
   "source": [
    "temp_df = pd.DataFrame()\n",
    "temp_df['<=50'] = df_train[df_train['Salary'] == ' <=50K']['workclass'].value_counts()\n",
    "temp_df['>50'] = df_train[df_train['Salary'] == ' >50K']['workclass'].value_counts()\n",
    "temp_df.plot.bar(figsize=(20,6))"
   ]
  },
  {
   "cell_type": "code",
   "execution_count": 20,
   "id": "0bf8bc95",
   "metadata": {
    "execution": {
     "iopub.execute_input": "2022-12-31T08:27:32.904386Z",
     "iopub.status.busy": "2022-12-31T08:27:32.903267Z",
     "iopub.status.idle": "2022-12-31T08:27:34.793302Z",
     "shell.execute_reply": "2022-12-31T08:27:34.792249Z"
    },
    "id": "FIoiMprc3wCC",
    "outputId": "f4fcb51f-7728-4570-fafd-38743422032e",
    "papermill": {
     "duration": 1.90586,
     "end_time": "2022-12-31T08:27:34.795973",
     "exception": false,
     "start_time": "2022-12-31T08:27:32.890113",
     "status": "completed"
    },
    "tags": []
   },
   "outputs": [
    {
     "data": {
      "text/plain": [
       "<AxesSubplot:xlabel='hoursperweek', ylabel='Density'>"
      ]
     },
     "execution_count": 20,
     "metadata": {},
     "output_type": "execute_result"
    },
    {
     "data": {
      "image/png": "[encoded data removed]",
      "text/plain": [
       "<Figure size 1440x432 with 1 Axes>"
      ]
     },
     "metadata": {
      "needs_background": "light"
     },
     "output_type": "display_data"
    },
    {
     "data": {
      "image/png": "[encoded data removed]",
      "text/plain": [
       "<Figure size 1440x432 with 1 Axes>"
      ]
     },
     "metadata": {
      "needs_background": "light"
     },
     "output_type": "display_data"
    },
    {
     "data": {
      "image/png": "[encoded data removed]",
      "text/plain": [
       "<Figure size 1440x432 with 1 Axes>"
      ]
     },
     "metadata": {
      "needs_background": "light"
     },
     "output_type": "display_data"
    },
    {
     "data": {
      "image/png": "[encoded data removed]",
      "text/plain": [
       "<Figure size 1440x432 with 1 Axes>"
      ]
     },
     "metadata": {
      "needs_background": "light"
     },
     "output_type": "display_data"
    },
    {
     "data": {
      "image/png": "[encoded data removed]",
      "text/plain": [
       "<Figure size 1440x432 with 1 Axes>"
      ]
     },
     "metadata": {
      "needs_background": "light"
     },
     "output_type": "display_data"
    },
    {
     "data": {
      "image/png": "[encoded data removed]",
      "text/plain": [
       "<Figure size 1440x432 with 1 Axes>"
      ]
     },
     "metadata": {
      "needs_background": "light"
     },
     "output_type": "display_data"
    }
   ],
   "source": [
    "\n",
    "plt.figure(figsize=(20,6))\n",
    "sns.countplot(x=df_train['maritalstatus'],hue=df_train['Salary'])\n",
    "plt.figure(figsize=(20,6))\n",
    "sns.countplot(data=df_train, x='occupation', hue='Salary')\n",
    "plt.figure(figsize=(20,6))\n",
    "sns.countplot(data=df_train, x='relationship', hue='Salary')\n",
    "plt.figure(figsize=(20,6))\n",
    "sns.countplot(data=df_train, x='race', hue='Salary')\n",
    "plt.figure(figsize=(20,6))\n",
    "sns.countplot(data=df_train, x='sex', hue='Salary')\n",
    "plt.figure(figsize=(20,6))\n",
    "sns.kdeplot(data=df_train, x='hoursperweek', hue='Salary', multiple=\"stack\")"
   ]
  },
  {
   "cell_type": "code",
   "execution_count": 21,
   "id": "f6f51894",
   "metadata": {
    "execution": {
     "iopub.execute_input": "2022-12-31T08:27:34.826810Z",
     "iopub.status.busy": "2022-12-31T08:27:34.825428Z",
     "iopub.status.idle": "2022-12-31T08:27:35.437594Z",
     "shell.execute_reply": "2022-12-31T08:27:35.436465Z"
    },
    "id": "WYOMlGDp34KP",
    "outputId": "ded103bd-df44-40cd-98f0-cd8723fc25d9",
    "papermill": {
     "duration": 0.630502,
     "end_time": "2022-12-31T08:27:35.440488",
     "exception": false,
     "start_time": "2022-12-31T08:27:34.809986",
     "status": "completed"
    },
    "tags": []
   },
   "outputs": [
    {
     "data": {
      "text/plain": [
       "<AxesSubplot:>"
      ]
     },
     "execution_count": 21,
     "metadata": {},
     "output_type": "execute_result"
    },
    {
     "data": {
      "image/png": "[encoded data removed]",
      "text/plain": [
       "<Figure size 1440x432 with 1 Axes>"
      ]
     },
     "metadata": {
      "needs_background": "light"
     },
     "output_type": "display_data"
    }
   ],
   "source": [
    "temp_df = pd.DataFrame()\n",
    "temp_df['<=50'] = df_train[df_train['Salary'] == ' <=50K']['native'].value_counts()\n",
    "temp_df['>50'] = df_train[df_train['Salary'] == ' >50K']['native'].value_counts()\n",
    "temp_df.plot.bar(figsize=(20,6))"
   ]
  },
  {
   "cell_type": "code",
   "execution_count": 22,
   "id": "20eb2042",
   "metadata": {
    "execution": {
     "iopub.execute_input": "2022-12-31T08:27:35.471698Z",
     "iopub.status.busy": "2022-12-31T08:27:35.471263Z",
     "iopub.status.idle": "2022-12-31T08:27:35.662772Z",
     "shell.execute_reply": "2022-12-31T08:27:35.661615Z"
    },
    "id": "k4Tx74gN38C4",
    "outputId": "c3cf27e7-6268-4b94-dc98-466ddb8938fe",
    "papermill": {
     "duration": 0.209696,
     "end_time": "2022-12-31T08:27:35.665159",
     "exception": false,
     "start_time": "2022-12-31T08:27:35.455463",
     "status": "completed"
    },
    "tags": []
   },
   "outputs": [
    {
     "data": {
      "text/html": [
       "<div>\n",
       "<style scoped>\n",
       "    .dataframe tbody tr th:only-of-type {\n",
       "        vertical-align: middle;\n",
       "    }\n",
       "\n",
       "    .dataframe tbody tr th {\n",
       "        vertical-align: top;\n",
       "    }\n",
       "\n",
       "    .dataframe thead th {\n",
       "        text-align: right;\n",
       "    }\n",
       "</style>\n",
       "<table border=\"1\" class=\"dataframe\">\n",
       "  <thead>\n",
       "    <tr style=\"text-align: right;\">\n",
       "      <th></th>\n",
       "      <th>age</th>\n",
       "      <th>workclass</th>\n",
       "      <th>educationno</th>\n",
       "      <th>maritalstatus</th>\n",
       "      <th>occupation</th>\n",
       "      <th>relationship</th>\n",
       "      <th>race</th>\n",
       "      <th>sex</th>\n",
       "      <th>capitalgain</th>\n",
       "      <th>capitalloss</th>\n",
       "      <th>hoursperweek</th>\n",
       "      <th>native</th>\n",
       "      <th>Salary</th>\n",
       "    </tr>\n",
       "  </thead>\n",
       "  <tbody>\n",
       "    <tr>\n",
       "      <th>0</th>\n",
       "      <td>25</td>\n",
       "      <td>2</td>\n",
       "      <td>7</td>\n",
       "      <td>4</td>\n",
       "      <td>6</td>\n",
       "      <td>3</td>\n",
       "      <td>2</td>\n",
       "      <td>1</td>\n",
       "      <td>0</td>\n",
       "      <td>0</td>\n",
       "      <td>40</td>\n",
       "      <td>37</td>\n",
       "      <td>0</td>\n",
       "    </tr>\n",
       "    <tr>\n",
       "      <th>1</th>\n",
       "      <td>38</td>\n",
       "      <td>2</td>\n",
       "      <td>9</td>\n",
       "      <td>2</td>\n",
       "      <td>4</td>\n",
       "      <td>0</td>\n",
       "      <td>4</td>\n",
       "      <td>1</td>\n",
       "      <td>0</td>\n",
       "      <td>0</td>\n",
       "      <td>50</td>\n",
       "      <td>37</td>\n",
       "      <td>0</td>\n",
       "    </tr>\n",
       "    <tr>\n",
       "      <th>2</th>\n",
       "      <td>28</td>\n",
       "      <td>1</td>\n",
       "      <td>12</td>\n",
       "      <td>2</td>\n",
       "      <td>10</td>\n",
       "      <td>0</td>\n",
       "      <td>4</td>\n",
       "      <td>1</td>\n",
       "      <td>0</td>\n",
       "      <td>0</td>\n",
       "      <td>40</td>\n",
       "      <td>37</td>\n",
       "      <td>1</td>\n",
       "    </tr>\n",
       "    <tr>\n",
       "      <th>3</th>\n",
       "      <td>44</td>\n",
       "      <td>2</td>\n",
       "      <td>10</td>\n",
       "      <td>2</td>\n",
       "      <td>6</td>\n",
       "      <td>0</td>\n",
       "      <td>2</td>\n",
       "      <td>1</td>\n",
       "      <td>7688</td>\n",
       "      <td>0</td>\n",
       "      <td>40</td>\n",
       "      <td>37</td>\n",
       "      <td>1</td>\n",
       "    </tr>\n",
       "    <tr>\n",
       "      <th>4</th>\n",
       "      <td>34</td>\n",
       "      <td>2</td>\n",
       "      <td>6</td>\n",
       "      <td>4</td>\n",
       "      <td>7</td>\n",
       "      <td>1</td>\n",
       "      <td>4</td>\n",
       "      <td>1</td>\n",
       "      <td>0</td>\n",
       "      <td>0</td>\n",
       "      <td>30</td>\n",
       "      <td>37</td>\n",
       "      <td>0</td>\n",
       "    </tr>\n",
       "    <tr>\n",
       "      <th>5</th>\n",
       "      <td>63</td>\n",
       "      <td>4</td>\n",
       "      <td>15</td>\n",
       "      <td>2</td>\n",
       "      <td>9</td>\n",
       "      <td>0</td>\n",
       "      <td>4</td>\n",
       "      <td>1</td>\n",
       "      <td>3103</td>\n",
       "      <td>0</td>\n",
       "      <td>32</td>\n",
       "      <td>37</td>\n",
       "      <td>1</td>\n",
       "    </tr>\n",
       "    <tr>\n",
       "      <th>6</th>\n",
       "      <td>24</td>\n",
       "      <td>2</td>\n",
       "      <td>10</td>\n",
       "      <td>4</td>\n",
       "      <td>7</td>\n",
       "      <td>4</td>\n",
       "      <td>4</td>\n",
       "      <td>0</td>\n",
       "      <td>0</td>\n",
       "      <td>0</td>\n",
       "      <td>40</td>\n",
       "      <td>37</td>\n",
       "      <td>0</td>\n",
       "    </tr>\n",
       "    <tr>\n",
       "      <th>7</th>\n",
       "      <td>55</td>\n",
       "      <td>2</td>\n",
       "      <td>4</td>\n",
       "      <td>2</td>\n",
       "      <td>2</td>\n",
       "      <td>0</td>\n",
       "      <td>4</td>\n",
       "      <td>1</td>\n",
       "      <td>0</td>\n",
       "      <td>0</td>\n",
       "      <td>10</td>\n",
       "      <td>37</td>\n",
       "      <td>0</td>\n",
       "    </tr>\n",
       "    <tr>\n",
       "      <th>8</th>\n",
       "      <td>65</td>\n",
       "      <td>2</td>\n",
       "      <td>9</td>\n",
       "      <td>2</td>\n",
       "      <td>6</td>\n",
       "      <td>0</td>\n",
       "      <td>4</td>\n",
       "      <td>1</td>\n",
       "      <td>6418</td>\n",
       "      <td>0</td>\n",
       "      <td>40</td>\n",
       "      <td>37</td>\n",
       "      <td>1</td>\n",
       "    </tr>\n",
       "    <tr>\n",
       "      <th>9</th>\n",
       "      <td>36</td>\n",
       "      <td>0</td>\n",
       "      <td>13</td>\n",
       "      <td>2</td>\n",
       "      <td>0</td>\n",
       "      <td>0</td>\n",
       "      <td>4</td>\n",
       "      <td>1</td>\n",
       "      <td>0</td>\n",
       "      <td>0</td>\n",
       "      <td>40</td>\n",
       "      <td>37</td>\n",
       "      <td>0</td>\n",
       "    </tr>\n",
       "  </tbody>\n",
       "</table>\n",
       "</div>"
      ],
      "text/plain": [
       "   age  workclass  educationno  maritalstatus  occupation  relationship  race  \\\n",
       "0   25          2            7              4           6             3     2   \n",
       "1   38          2            9              2           4             0     4   \n",
       "2   28          1           12              2          10             0     4   \n",
       "3   44          2           10              2           6             0     2   \n",
       "4   34          2            6              4           7             1     4   \n",
       "5   63          4           15              2           9             0     4   \n",
       "6   24          2           10              4           7             4     4   \n",
       "7   55          2            4              2           2             0     4   \n",
       "8   65          2            9              2           6             0     4   \n",
       "9   36          0           13              2           0             0     4   \n",
       "\n",
       "   sex  capitalgain  capitalloss  hoursperweek  native  Salary  \n",
       "0    1            0            0            40      37       0  \n",
       "1    1            0            0            50      37       0  \n",
       "2    1            0            0            40      37       1  \n",
       "3    1         7688            0            40      37       1  \n",
       "4    1            0            0            30      37       0  \n",
       "5    1         3103            0            32      37       1  \n",
       "6    0            0            0            40      37       0  \n",
       "7    1            0            0            10      37       0  \n",
       "8    1         6418            0            40      37       1  \n",
       "9    1            0            0            40      37       0  "
      ]
     },
     "execution_count": 22,
     "metadata": {},
     "output_type": "execute_result"
    }
   ],
   "source": [
    "df_train.head()\n",
    "from sklearn import preprocessing \n",
    "\n",
    "df = df_train.copy()\n",
    "label_encoder = preprocessing.LabelEncoder()\n",
    "df[\"workclass\"]=label_encoder.fit_transform(df[\"workclass\"])\n",
    "df[\"maritalstatus\"]=label_encoder.fit_transform(df[\"maritalstatus\"])\n",
    "df[\"sex\"]=label_encoder.fit_transform(df[\"sex\"])\n",
    "df[\"race\"]=label_encoder.fit_transform(df[\"race\"])\n",
    "df[\"occupation\"]=label_encoder.fit_transform(df[\"occupation\"])\n",
    "df[\"relationship\"]=label_encoder.fit_transform(df[\"relationship\"])\n",
    "df[\"native\"]=label_encoder.fit_transform(df[\"native\"])\n",
    "df[\"Salary\"]=label_encoder.fit_transform(df[\"Salary\"])\n",
    "\n",
    "df.head(10)"
   ]
  },
  {
   "cell_type": "code",
   "execution_count": 23,
   "id": "55181d35",
   "metadata": {
    "execution": {
     "iopub.execute_input": "2022-12-31T08:27:35.699098Z",
     "iopub.status.busy": "2022-12-31T08:27:35.698689Z",
     "iopub.status.idle": "2022-12-31T08:27:35.705520Z",
     "shell.execute_reply": "2022-12-31T08:27:35.704142Z"
    },
    "id": "9kpQrhEC3_2S",
    "papermill": {
     "duration": 0.026753,
     "end_time": "2022-12-31T08:27:35.708050",
     "exception": false,
     "start_time": "2022-12-31T08:27:35.681297",
     "status": "completed"
    },
    "tags": []
   },
   "outputs": [],
   "source": [
    "X=df.iloc[:,0:12]\n",
    "Y=df.iloc[:,12]"
   ]
  },
  {
   "cell_type": "code",
   "execution_count": 24,
   "id": "bff1f187",
   "metadata": {
    "execution": {
     "iopub.execute_input": "2022-12-31T08:27:35.740880Z",
     "iopub.status.busy": "2022-12-31T08:27:35.740457Z",
     "iopub.status.idle": "2022-12-31T08:27:35.873515Z",
     "shell.execute_reply": "2022-12-31T08:27:35.871895Z"
    },
    "id": "JG-FYCA24DdN",
    "papermill": {
     "duration": 0.153604,
     "end_time": "2022-12-31T08:27:35.876256",
     "exception": false,
     "start_time": "2022-12-31T08:27:35.722652",
     "status": "completed"
    },
    "tags": []
   },
   "outputs": [],
   "source": [
    "from sklearn import svm\n",
    "from sklearn.svm import SVC\n",
    "from sklearn.model_selection import GridSearchCV\n",
    "from sklearn.metrics import classification_report\n",
    "from sklearn.metrics import accuracy_score, confusion_matrix\n",
    "from sklearn.model_selection import train_test_split, cross_val_score\n",
    "from sklearn.preprocessing import StandardScaler\n",
    "from sklearn.model_selection import train_test_split\n",
    "from sklearn.model_selection import KFold\n",
    "from sklearn.model_selection import cross_val_score\n",
    "from sklearn.model_selection import GridSearchCV\n",
    "from sklearn.metrics import classification_report\n",
    "from sklearn.metrics import confusion_matrix\n",
    "from sklearn.metrics import accuracy_score"
   ]
  },
  {
   "cell_type": "code",
   "execution_count": 25,
   "id": "3abd8547",
   "metadata": {
    "execution": {
     "iopub.execute_input": "2022-12-31T08:27:35.908382Z",
     "iopub.status.busy": "2022-12-31T08:27:35.907345Z",
     "iopub.status.idle": "2022-12-31T08:27:35.925765Z",
     "shell.execute_reply": "2022-12-31T08:27:35.924508Z"
    },
    "id": "6WyizMXK4GcV",
    "outputId": "3b15398e-e684-4793-a065-40246ee01564",
    "papermill": {
     "duration": 0.036951,
     "end_time": "2022-12-31T08:27:35.928213",
     "exception": false,
     "start_time": "2022-12-31T08:27:35.891262",
     "status": "completed"
    },
    "tags": []
   },
   "outputs": [
    {
     "data": {
      "text/plain": [
       "((11304, 12), (11304,), (2826, 12), (2826,))"
      ]
     },
     "execution_count": 25,
     "metadata": {},
     "output_type": "execute_result"
    }
   ],
   "source": [
    "X_train, X_test, y_train, y_test = train_test_split(X,Y, test_size = 0.2, random_state=7, stratify=Y)\n",
    "X_train.shape, y_train.shape, X_test.shape, y_test.shape"
   ]
  },
  {
   "cell_type": "code",
   "execution_count": 26,
   "id": "66409b17",
   "metadata": {
    "execution": {
     "iopub.execute_input": "2022-12-31T08:27:35.960768Z",
     "iopub.status.busy": "2022-12-31T08:27:35.960340Z",
     "iopub.status.idle": "2022-12-31T08:27:40.064567Z",
     "shell.execute_reply": "2022-12-31T08:27:40.062916Z"
    },
    "id": "44JLXftm4NDQ",
    "outputId": "a86940ec-6bb6-43f7-9594-fa03942fa010",
    "papermill": {
     "duration": 4.1232,
     "end_time": "2022-12-31T08:27:40.067077",
     "exception": false,
     "start_time": "2022-12-31T08:27:35.943877",
     "status": "completed"
    },
    "tags": []
   },
   "outputs": [
    {
     "name": "stdout",
     "output_type": "stream",
     "text": [
      "Accuracy = 78.98089171974523\n"
     ]
    },
    {
     "data": {
      "text/plain": [
       "array([[2100,   24],\n",
       "       [ 570,  132]])"
      ]
     },
     "execution_count": 26,
     "metadata": {},
     "output_type": "execute_result"
    }
   ],
   "source": [
    "clf=SVC()\n",
    "clf.fit(X_train , y_train)\n",
    "y_pred = clf.predict(X_test)\n",
    "acc = accuracy_score(y_test, y_pred) * 100\n",
    "print(\"Accuracy =\", acc)\n",
    "confusion_matrix(y_test, y_pred)"
   ]
  },
  {
   "cell_type": "code",
   "execution_count": 27,
   "id": "b932f0ee",
   "metadata": {
    "execution": {
     "iopub.execute_input": "2022-12-31T08:27:40.101568Z",
     "iopub.status.busy": "2022-12-31T08:27:40.100405Z",
     "iopub.status.idle": "2022-12-31T08:30:14.912794Z",
     "shell.execute_reply": "2022-12-31T08:30:14.911738Z"
    },
    "id": "YkjiTYWb4cK7",
    "outputId": "16bd5f91-c0c1-455e-b1f4-6d998c40d635",
    "papermill": {
     "duration": 154.831873,
     "end_time": "2022-12-31T08:30:14.915210",
     "exception": false,
     "start_time": "2022-12-31T08:27:40.083337",
     "status": "completed"
    },
    "tags": []
   },
   "outputs": [
    {
     "name": "stdout",
     "output_type": "stream",
     "text": [
      "Fitting 10 folds for each of 4 candidates, totalling 40 fits\n",
      "[CV 1/10; 1/4] START kernel=linear..............................................\n",
      "[CV 1/10; 1/4] END ...............kernel=linear;, score=0.809 total time=   4.9s\n",
      "[CV 2/10; 1/4] START kernel=linear..............................................\n",
      "[CV 2/10; 1/4] END ...............kernel=linear;, score=0.798 total time=   4.3s\n",
      "[CV 3/10; 1/4] START kernel=linear..............................................\n",
      "[CV 3/10; 1/4] END ...............kernel=linear;, score=0.795 total time=   4.4s\n",
      "[CV 4/10; 1/4] START kernel=linear..............................................\n",
      "[CV 4/10; 1/4] END ...............kernel=linear;, score=0.810 total time=   4.6s\n",
      "[CV 5/10; 1/4] START kernel=linear..............................................\n",
      "[CV 5/10; 1/4] END ...............kernel=linear;, score=0.784 total time=   4.6s\n",
      "[CV 6/10; 1/4] START kernel=linear..............................................\n",
      "[CV 6/10; 1/4] END ...............kernel=linear;, score=0.793 total time=   4.6s\n",
      "[CV 7/10; 1/4] START kernel=linear..............................................\n",
      "[CV 7/10; 1/4] END ...............kernel=linear;, score=0.816 total time=   4.4s\n",
      "[CV 8/10; 1/4] START kernel=linear..............................................\n",
      "[CV 8/10; 1/4] END ...............kernel=linear;, score=0.792 total time=   4.8s\n",
      "[CV 9/10; 1/4] START kernel=linear..............................................\n",
      "[CV 9/10; 1/4] END ...............kernel=linear;, score=0.803 total time=   4.6s\n",
      "[CV 10/10; 1/4] START kernel=linear.............................................\n",
      "[CV 10/10; 1/4] END ..............kernel=linear;, score=0.803 total time=   4.6s\n",
      "[CV 1/10; 2/4] START kernel=poly................................................\n",
      "[CV 1/10; 2/4] END .................kernel=poly;, score=0.828 total time=   4.0s\n",
      "[CV 2/10; 2/4] START kernel=poly................................................\n",
      "[CV 2/10; 2/4] END .................kernel=poly;, score=0.818 total time=   3.9s\n",
      "[CV 3/10; 2/4] START kernel=poly................................................\n",
      "[CV 3/10; 2/4] END .................kernel=poly;, score=0.826 total time=   3.8s\n",
      "[CV 4/10; 2/4] START kernel=poly................................................\n",
      "[CV 4/10; 2/4] END .................kernel=poly;, score=0.832 total time=   4.1s\n",
      "[CV 5/10; 2/4] START kernel=poly................................................\n",
      "[CV 5/10; 2/4] END .................kernel=poly;, score=0.809 total time=   4.2s\n",
      "[CV 6/10; 2/4] START kernel=poly................................................\n",
      "[CV 6/10; 2/4] END .................kernel=poly;, score=0.833 total time=   4.0s\n",
      "[CV 7/10; 2/4] START kernel=poly................................................\n",
      "[CV 7/10; 2/4] END .................kernel=poly;, score=0.843 total time=   4.0s\n",
      "[CV 8/10; 2/4] START kernel=poly................................................\n",
      "[CV 8/10; 2/4] END .................kernel=poly;, score=0.815 total time=   4.2s\n",
      "[CV 9/10; 2/4] START kernel=poly................................................\n",
      "[CV 9/10; 2/4] END .................kernel=poly;, score=0.829 total time=   4.0s\n",
      "[CV 10/10; 2/4] START kernel=poly...............................................\n",
      "[CV 10/10; 2/4] END ................kernel=poly;, score=0.821 total time=   4.3s\n",
      "[CV 1/10; 3/4] START kernel=rbf.................................................\n",
      "[CV 1/10; 3/4] END ..................kernel=rbf;, score=0.841 total time=   2.9s\n",
      "[CV 2/10; 3/4] START kernel=rbf.................................................\n",
      "[CV 2/10; 3/4] END ..................kernel=rbf;, score=0.833 total time=   2.9s\n",
      "[CV 3/10; 3/4] START kernel=rbf.................................................\n",
      "[CV 3/10; 3/4] END ..................kernel=rbf;, score=0.816 total time=   2.9s\n",
      "[CV 4/10; 3/4] START kernel=rbf.................................................\n",
      "[CV 4/10; 3/4] END ..................kernel=rbf;, score=0.838 total time=   2.9s\n",
      "[CV 5/10; 3/4] START kernel=rbf.................................................\n",
      "[CV 5/10; 3/4] END ..................kernel=rbf;, score=0.821 total time=   3.0s\n",
      "[CV 6/10; 3/4] START kernel=rbf.................................................\n",
      "[CV 6/10; 3/4] END ..................kernel=rbf;, score=0.842 total time=   2.9s\n",
      "[CV 7/10; 3/4] START kernel=rbf.................................................\n",
      "[CV 7/10; 3/4] END ..................kernel=rbf;, score=0.853 total time=   2.9s\n",
      "[CV 8/10; 3/4] START kernel=rbf.................................................\n",
      "[CV 8/10; 3/4] END ..................kernel=rbf;, score=0.824 total time=   2.9s\n",
      "[CV 9/10; 3/4] START kernel=rbf.................................................\n",
      "[CV 9/10; 3/4] END ..................kernel=rbf;, score=0.850 total time=   3.0s\n",
      "[CV 10/10; 3/4] START kernel=rbf................................................\n",
      "[CV 10/10; 3/4] END .................kernel=rbf;, score=0.842 total time=   3.0s\n",
      "[CV 1/10; 4/4] START kernel=sigmoid.............................................\n",
      "[CV 1/10; 4/4] END ..............kernel=sigmoid;, score=0.743 total time=   3.2s\n",
      "[CV 2/10; 4/4] START kernel=sigmoid.............................................\n",
      "[CV 2/10; 4/4] END ..............kernel=sigmoid;, score=0.748 total time=   3.4s\n",
      "[CV 3/10; 4/4] START kernel=sigmoid.............................................\n",
      "[CV 3/10; 4/4] END ..............kernel=sigmoid;, score=0.734 total time=   4.0s\n",
      "[CV 4/10; 4/4] START kernel=sigmoid.............................................\n",
      "[CV 4/10; 4/4] END ..............kernel=sigmoid;, score=0.748 total time=   4.1s\n",
      "[CV 5/10; 4/4] START kernel=sigmoid.............................................\n",
      "[CV 5/10; 4/4] END ..............kernel=sigmoid;, score=0.717 total time=   3.1s\n",
      "[CV 6/10; 4/4] START kernel=sigmoid.............................................\n",
      "[CV 6/10; 4/4] END ..............kernel=sigmoid;, score=0.746 total time=   4.1s\n",
      "[CV 7/10; 4/4] START kernel=sigmoid.............................................\n",
      "[CV 7/10; 4/4] END ..............kernel=sigmoid;, score=0.729 total time=   3.6s\n",
      "[CV 8/10; 4/4] START kernel=sigmoid.............................................\n",
      "[CV 8/10; 4/4] END ..............kernel=sigmoid;, score=0.758 total time=   3.2s\n",
      "[CV 9/10; 4/4] START kernel=sigmoid.............................................\n",
      "[CV 9/10; 4/4] END ..............kernel=sigmoid;, score=0.750 total time=   3.4s\n",
      "[CV 10/10; 4/4] START kernel=sigmoid............................................\n",
      "[CV 10/10; 4/4] END .............kernel=sigmoid;, score=0.735 total time=   4.0s\n",
      "Best: 0.836166 using {'kernel': 'rbf'}\n"
     ]
    }
   ],
   "source": [
    "# Tune scaled SVM\n",
    "scaler = StandardScaler().fit(X_train)\n",
    "rescaledX = scaler.transform(X_train)\n",
    "\n",
    "num_folds = 10\n",
    "seed = 7\n",
    "scoring = 'accuracy'\n",
    "#c_values = [0.1, 0.3, 0.5, 0.7, 0.9, 1.0, 1.3, 1.5, 1.7, 2.0,2.2,2.5]\n",
    "kernel_values = ['linear', 'poly', 'rbf', 'sigmoid']\n",
    "\n",
    "param_grid = dict(kernel=kernel_values)  #Regularization parameter. The strength of the regularization is inversely proportional to C\n",
    "model = SVC()\n",
    "\n",
    "kfold = KFold(n_splits=num_folds, random_state=None)\n",
    "grid = GridSearchCV(estimator=model,\n",
    "                    param_grid=param_grid,\n",
    "                    scoring=scoring,\n",
    "                    cv=kfold, verbose=10)\n",
    "\n",
    "grid_result = grid.fit(rescaledX, y_train)\n",
    "print(\"Best: %f using %s\" %\n",
    "      (grid_result.best_score_, grid_result.best_params_))"
   ]
  },
  {
   "cell_type": "code",
   "execution_count": 28,
   "id": "56fbd1ce",
   "metadata": {
    "execution": {
     "iopub.execute_input": "2022-12-31T08:30:14.954601Z",
     "iopub.status.busy": "2022-12-31T08:30:14.954177Z",
     "iopub.status.idle": "2022-12-31T08:30:18.297223Z",
     "shell.execute_reply": "2022-12-31T08:30:18.295891Z"
    },
    "id": "hD5lDZsk5GT7",
    "outputId": "cda5bf18-6c97-4a33-9d8b-31fae1bd455e",
    "papermill": {
     "duration": 3.366229,
     "end_time": "2022-12-31T08:30:18.299917",
     "exception": false,
     "start_time": "2022-12-31T08:30:14.933688",
     "status": "completed"
    },
    "tags": []
   },
   "outputs": [
    {
     "data": {
      "text/plain": [
       "SVC()"
      ]
     },
     "execution_count": 28,
     "metadata": {},
     "output_type": "execute_result"
    }
   ],
   "source": [
    "model = SVC(kernel='rbf')\n",
    "model.fit(rescaledX, y_train)"
   ]
  },
  {
   "cell_type": "code",
   "execution_count": 29,
   "id": "8857f552",
   "metadata": {
    "execution": {
     "iopub.execute_input": "2022-12-31T08:30:18.339632Z",
     "iopub.status.busy": "2022-12-31T08:30:18.339213Z",
     "iopub.status.idle": "2022-12-31T08:30:19.129333Z",
     "shell.execute_reply": "2022-12-31T08:30:19.127573Z"
    },
    "id": "srPrEe605Kfm",
    "outputId": "d0036b7b-403e-45f3-cf78-312317a948be",
    "papermill": {
     "duration": 0.81382,
     "end_time": "2022-12-31T08:30:19.132034",
     "exception": false,
     "start_time": "2022-12-31T08:30:18.318214",
     "status": "completed"
    },
    "tags": []
   },
   "outputs": [
    {
     "name": "stdout",
     "output_type": "stream",
     "text": [
      "[0 0 1 ... 0 0 1]\n",
      "Accuracy = 85.13800424628451\n",
      "[[2036   88]\n",
      " [ 332  370]]\n"
     ]
    }
   ],
   "source": [
    "rescaledX_test = scaler.transform(X_test)\n",
    "predictions = model.predict(rescaledX_test)\n",
    "print(predictions)\n",
    "print(\"Accuracy =\",accuracy_score(y_test, predictions)*100)\n",
    "print(confusion_matrix(y_test, predictions))"
   ]
  },
  {
   "cell_type": "code",
   "execution_count": 30,
   "id": "6752510b",
   "metadata": {
    "execution": {
     "iopub.execute_input": "2022-12-31T08:30:19.172176Z",
     "iopub.status.busy": "2022-12-31T08:30:19.171722Z",
     "iopub.status.idle": "2022-12-31T08:30:19.273585Z",
     "shell.execute_reply": "2022-12-31T08:30:19.272298Z"
    },
    "id": "dhiDAh2d5pcl",
    "outputId": "15e4d491-fee3-492a-b595-7b1cd40e524e",
    "papermill": {
     "duration": 0.125318,
     "end_time": "2022-12-31T08:30:19.276138",
     "exception": false,
     "start_time": "2022-12-31T08:30:19.150820",
     "status": "completed"
    },
    "tags": []
   },
   "outputs": [
    {
     "data": {
      "text/plain": [
       "(30161, 14)"
      ]
     },
     "execution_count": 30,
     "metadata": {},
     "output_type": "execute_result"
    }
   ],
   "source": [
    "df_test = pd.read_csv('/kaggle/input/SalaryData/SalaryData_Train(1).csv')\n",
    "df_test.shape"
   ]
  },
  {
   "cell_type": "code",
   "execution_count": 31,
   "id": "a2c194e8",
   "metadata": {
    "execution": {
     "iopub.execute_input": "2022-12-31T08:30:19.318425Z",
     "iopub.status.busy": "2022-12-31T08:30:19.318010Z",
     "iopub.status.idle": "2022-12-31T08:30:19.338295Z",
     "shell.execute_reply": "2022-12-31T08:30:19.336786Z"
    },
    "id": "vah4bs3C58QG",
    "outputId": "29cf2200-f506-49a7-de07-c57316ba8dd2",
    "papermill": {
     "duration": 0.045694,
     "end_time": "2022-12-31T08:30:19.342322",
     "exception": false,
     "start_time": "2022-12-31T08:30:19.296628",
     "status": "completed"
    },
    "tags": []
   },
   "outputs": [
    {
     "data": {
      "text/html": [
       "<div>\n",
       "<style scoped>\n",
       "    .dataframe tbody tr th:only-of-type {\n",
       "        vertical-align: middle;\n",
       "    }\n",
       "\n",
       "    .dataframe tbody tr th {\n",
       "        vertical-align: top;\n",
       "    }\n",
       "\n",
       "    .dataframe thead th {\n",
       "        text-align: right;\n",
       "    }\n",
       "</style>\n",
       "<table border=\"1\" class=\"dataframe\">\n",
       "  <thead>\n",
       "    <tr style=\"text-align: right;\">\n",
       "      <th></th>\n",
       "      <th>age</th>\n",
       "      <th>workclass</th>\n",
       "      <th>education</th>\n",
       "      <th>educationno</th>\n",
       "      <th>maritalstatus</th>\n",
       "      <th>occupation</th>\n",
       "      <th>relationship</th>\n",
       "      <th>race</th>\n",
       "      <th>sex</th>\n",
       "      <th>capitalgain</th>\n",
       "      <th>capitalloss</th>\n",
       "      <th>hoursperweek</th>\n",
       "      <th>native</th>\n",
       "      <th>Salary</th>\n",
       "    </tr>\n",
       "  </thead>\n",
       "  <tbody>\n",
       "    <tr>\n",
       "      <th>0</th>\n",
       "      <td>39</td>\n",
       "      <td>State-gov</td>\n",
       "      <td>Bachelors</td>\n",
       "      <td>13</td>\n",
       "      <td>Never-married</td>\n",
       "      <td>Adm-clerical</td>\n",
       "      <td>Not-in-family</td>\n",
       "      <td>White</td>\n",
       "      <td>Male</td>\n",
       "      <td>2174</td>\n",
       "      <td>0</td>\n",
       "      <td>40</td>\n",
       "      <td>United-States</td>\n",
       "      <td>&lt;=50K</td>\n",
       "    </tr>\n",
       "    <tr>\n",
       "      <th>1</th>\n",
       "      <td>50</td>\n",
       "      <td>Self-emp-not-inc</td>\n",
       "      <td>Bachelors</td>\n",
       "      <td>13</td>\n",
       "      <td>Married-civ-spouse</td>\n",
       "      <td>Exec-managerial</td>\n",
       "      <td>Husband</td>\n",
       "      <td>White</td>\n",
       "      <td>Male</td>\n",
       "      <td>0</td>\n",
       "      <td>0</td>\n",
       "      <td>13</td>\n",
       "      <td>United-States</td>\n",
       "      <td>&lt;=50K</td>\n",
       "    </tr>\n",
       "    <tr>\n",
       "      <th>2</th>\n",
       "      <td>38</td>\n",
       "      <td>Private</td>\n",
       "      <td>HS-grad</td>\n",
       "      <td>9</td>\n",
       "      <td>Divorced</td>\n",
       "      <td>Handlers-cleaners</td>\n",
       "      <td>Not-in-family</td>\n",
       "      <td>White</td>\n",
       "      <td>Male</td>\n",
       "      <td>0</td>\n",
       "      <td>0</td>\n",
       "      <td>40</td>\n",
       "      <td>United-States</td>\n",
       "      <td>&lt;=50K</td>\n",
       "    </tr>\n",
       "    <tr>\n",
       "      <th>3</th>\n",
       "      <td>53</td>\n",
       "      <td>Private</td>\n",
       "      <td>11th</td>\n",
       "      <td>7</td>\n",
       "      <td>Married-civ-spouse</td>\n",
       "      <td>Handlers-cleaners</td>\n",
       "      <td>Husband</td>\n",
       "      <td>Black</td>\n",
       "      <td>Male</td>\n",
       "      <td>0</td>\n",
       "      <td>0</td>\n",
       "      <td>40</td>\n",
       "      <td>United-States</td>\n",
       "      <td>&lt;=50K</td>\n",
       "    </tr>\n",
       "    <tr>\n",
       "      <th>4</th>\n",
       "      <td>28</td>\n",
       "      <td>Private</td>\n",
       "      <td>Bachelors</td>\n",
       "      <td>13</td>\n",
       "      <td>Married-civ-spouse</td>\n",
       "      <td>Prof-specialty</td>\n",
       "      <td>Wife</td>\n",
       "      <td>Black</td>\n",
       "      <td>Female</td>\n",
       "      <td>0</td>\n",
       "      <td>0</td>\n",
       "      <td>40</td>\n",
       "      <td>Cuba</td>\n",
       "      <td>&lt;=50K</td>\n",
       "    </tr>\n",
       "  </tbody>\n",
       "</table>\n",
       "</div>"
      ],
      "text/plain": [
       "   age          workclass   education  educationno        maritalstatus  \\\n",
       "0   39          State-gov   Bachelors           13        Never-married   \n",
       "1   50   Self-emp-not-inc   Bachelors           13   Married-civ-spouse   \n",
       "2   38            Private     HS-grad            9             Divorced   \n",
       "3   53            Private        11th            7   Married-civ-spouse   \n",
       "4   28            Private   Bachelors           13   Married-civ-spouse   \n",
       "\n",
       "           occupation    relationship    race      sex  capitalgain  \\\n",
       "0        Adm-clerical   Not-in-family   White     Male         2174   \n",
       "1     Exec-managerial         Husband   White     Male            0   \n",
       "2   Handlers-cleaners   Not-in-family   White     Male            0   \n",
       "3   Handlers-cleaners         Husband   Black     Male            0   \n",
       "4      Prof-specialty            Wife   Black   Female            0   \n",
       "\n",
       "   capitalloss  hoursperweek          native  Salary  \n",
       "0            0            40   United-States   <=50K  \n",
       "1            0            13   United-States   <=50K  \n",
       "2            0            40   United-States   <=50K  \n",
       "3            0            40   United-States   <=50K  \n",
       "4            0            40            Cuba   <=50K  "
      ]
     },
     "execution_count": 31,
     "metadata": {},
     "output_type": "execute_result"
    }
   ],
   "source": [
    "df_test.head()"
   ]
  },
  {
   "cell_type": "code",
   "execution_count": 32,
   "id": "d8d4ec7b",
   "metadata": {
    "execution": {
     "iopub.execute_input": "2022-12-31T08:30:19.383845Z",
     "iopub.status.busy": "2022-12-31T08:30:19.383415Z",
     "iopub.status.idle": "2022-12-31T08:30:19.396145Z",
     "shell.execute_reply": "2022-12-31T08:30:19.395002Z"
    },
    "id": "QNbVEWqs5_Sk",
    "outputId": "f6b8d41e-c667-43a1-827c-07ed3ff0983b",
    "papermill": {
     "duration": 0.03633,
     "end_time": "2022-12-31T08:30:19.398665",
     "exception": false,
     "start_time": "2022-12-31T08:30:19.362335",
     "status": "completed"
    },
    "tags": []
   },
   "outputs": [
    {
     "data": {
      "text/plain": [
       "(30161, 13)"
      ]
     },
     "execution_count": 32,
     "metadata": {},
     "output_type": "execute_result"
    }
   ],
   "source": [
    "df_test = df_test.drop(['education'], axis=1)\n",
    "df_test.shape"
   ]
  },
  {
   "cell_type": "code",
   "execution_count": 33,
   "id": "92ad48e5",
   "metadata": {
    "execution": {
     "iopub.execute_input": "2022-12-31T08:30:19.441536Z",
     "iopub.status.busy": "2022-12-31T08:30:19.441154Z",
     "iopub.status.idle": "2022-12-31T08:30:19.538238Z",
     "shell.execute_reply": "2022-12-31T08:30:19.537033Z"
    },
    "id": "yWS-XRCo6B2u",
    "outputId": "1f494df3-03b1-4650-b05a-f6a71227b863",
    "papermill": {
     "duration": 0.121929,
     "end_time": "2022-12-31T08:30:19.540631",
     "exception": false,
     "start_time": "2022-12-31T08:30:19.418702",
     "status": "completed"
    },
    "tags": []
   },
   "outputs": [
    {
     "data": {
      "text/html": [
       "<div>\n",
       "<style scoped>\n",
       "    .dataframe tbody tr th:only-of-type {\n",
       "        vertical-align: middle;\n",
       "    }\n",
       "\n",
       "    .dataframe tbody tr th {\n",
       "        vertical-align: top;\n",
       "    }\n",
       "\n",
       "    .dataframe thead th {\n",
       "        text-align: right;\n",
       "    }\n",
       "</style>\n",
       "<table border=\"1\" class=\"dataframe\">\n",
       "  <thead>\n",
       "    <tr style=\"text-align: right;\">\n",
       "      <th></th>\n",
       "      <th>age</th>\n",
       "      <th>workclass</th>\n",
       "      <th>educationno</th>\n",
       "      <th>maritalstatus</th>\n",
       "      <th>occupation</th>\n",
       "      <th>relationship</th>\n",
       "      <th>race</th>\n",
       "      <th>sex</th>\n",
       "      <th>capitalgain</th>\n",
       "      <th>capitalloss</th>\n",
       "      <th>hoursperweek</th>\n",
       "      <th>native</th>\n",
       "      <th>Salary</th>\n",
       "    </tr>\n",
       "  </thead>\n",
       "  <tbody>\n",
       "    <tr>\n",
       "      <th>0</th>\n",
       "      <td>39</td>\n",
       "      <td>5</td>\n",
       "      <td>13</td>\n",
       "      <td>4</td>\n",
       "      <td>0</td>\n",
       "      <td>1</td>\n",
       "      <td>4</td>\n",
       "      <td>1</td>\n",
       "      <td>2174</td>\n",
       "      <td>0</td>\n",
       "      <td>40</td>\n",
       "      <td>37</td>\n",
       "      <td>0</td>\n",
       "    </tr>\n",
       "    <tr>\n",
       "      <th>1</th>\n",
       "      <td>50</td>\n",
       "      <td>4</td>\n",
       "      <td>13</td>\n",
       "      <td>2</td>\n",
       "      <td>3</td>\n",
       "      <td>0</td>\n",
       "      <td>4</td>\n",
       "      <td>1</td>\n",
       "      <td>0</td>\n",
       "      <td>0</td>\n",
       "      <td>13</td>\n",
       "      <td>37</td>\n",
       "      <td>0</td>\n",
       "    </tr>\n",
       "    <tr>\n",
       "      <th>2</th>\n",
       "      <td>38</td>\n",
       "      <td>2</td>\n",
       "      <td>9</td>\n",
       "      <td>0</td>\n",
       "      <td>5</td>\n",
       "      <td>1</td>\n",
       "      <td>4</td>\n",
       "      <td>1</td>\n",
       "      <td>0</td>\n",
       "      <td>0</td>\n",
       "      <td>40</td>\n",
       "      <td>37</td>\n",
       "      <td>0</td>\n",
       "    </tr>\n",
       "    <tr>\n",
       "      <th>3</th>\n",
       "      <td>53</td>\n",
       "      <td>2</td>\n",
       "      <td>7</td>\n",
       "      <td>2</td>\n",
       "      <td>5</td>\n",
       "      <td>0</td>\n",
       "      <td>2</td>\n",
       "      <td>1</td>\n",
       "      <td>0</td>\n",
       "      <td>0</td>\n",
       "      <td>40</td>\n",
       "      <td>37</td>\n",
       "      <td>0</td>\n",
       "    </tr>\n",
       "    <tr>\n",
       "      <th>4</th>\n",
       "      <td>28</td>\n",
       "      <td>2</td>\n",
       "      <td>13</td>\n",
       "      <td>2</td>\n",
       "      <td>9</td>\n",
       "      <td>5</td>\n",
       "      <td>2</td>\n",
       "      <td>0</td>\n",
       "      <td>0</td>\n",
       "      <td>0</td>\n",
       "      <td>40</td>\n",
       "      <td>4</td>\n",
       "      <td>0</td>\n",
       "    </tr>\n",
       "    <tr>\n",
       "      <th>5</th>\n",
       "      <td>37</td>\n",
       "      <td>2</td>\n",
       "      <td>14</td>\n",
       "      <td>2</td>\n",
       "      <td>3</td>\n",
       "      <td>5</td>\n",
       "      <td>4</td>\n",
       "      <td>0</td>\n",
       "      <td>0</td>\n",
       "      <td>0</td>\n",
       "      <td>40</td>\n",
       "      <td>37</td>\n",
       "      <td>0</td>\n",
       "    </tr>\n",
       "    <tr>\n",
       "      <th>6</th>\n",
       "      <td>49</td>\n",
       "      <td>2</td>\n",
       "      <td>5</td>\n",
       "      <td>3</td>\n",
       "      <td>7</td>\n",
       "      <td>1</td>\n",
       "      <td>2</td>\n",
       "      <td>0</td>\n",
       "      <td>0</td>\n",
       "      <td>0</td>\n",
       "      <td>16</td>\n",
       "      <td>21</td>\n",
       "      <td>0</td>\n",
       "    </tr>\n",
       "    <tr>\n",
       "      <th>7</th>\n",
       "      <td>52</td>\n",
       "      <td>4</td>\n",
       "      <td>9</td>\n",
       "      <td>2</td>\n",
       "      <td>3</td>\n",
       "      <td>0</td>\n",
       "      <td>4</td>\n",
       "      <td>1</td>\n",
       "      <td>0</td>\n",
       "      <td>0</td>\n",
       "      <td>45</td>\n",
       "      <td>37</td>\n",
       "      <td>1</td>\n",
       "    </tr>\n",
       "    <tr>\n",
       "      <th>8</th>\n",
       "      <td>31</td>\n",
       "      <td>2</td>\n",
       "      <td>14</td>\n",
       "      <td>4</td>\n",
       "      <td>9</td>\n",
       "      <td>1</td>\n",
       "      <td>4</td>\n",
       "      <td>0</td>\n",
       "      <td>14084</td>\n",
       "      <td>0</td>\n",
       "      <td>50</td>\n",
       "      <td>37</td>\n",
       "      <td>1</td>\n",
       "    </tr>\n",
       "    <tr>\n",
       "      <th>9</th>\n",
       "      <td>42</td>\n",
       "      <td>2</td>\n",
       "      <td>13</td>\n",
       "      <td>2</td>\n",
       "      <td>3</td>\n",
       "      <td>0</td>\n",
       "      <td>4</td>\n",
       "      <td>1</td>\n",
       "      <td>5178</td>\n",
       "      <td>0</td>\n",
       "      <td>40</td>\n",
       "      <td>37</td>\n",
       "      <td>1</td>\n",
       "    </tr>\n",
       "  </tbody>\n",
       "</table>\n",
       "</div>"
      ],
      "text/plain": [
       "   age  workclass  educationno  maritalstatus  occupation  relationship  race  \\\n",
       "0   39          5           13              4           0             1     4   \n",
       "1   50          4           13              2           3             0     4   \n",
       "2   38          2            9              0           5             1     4   \n",
       "3   53          2            7              2           5             0     2   \n",
       "4   28          2           13              2           9             5     2   \n",
       "5   37          2           14              2           3             5     4   \n",
       "6   49          2            5              3           7             1     2   \n",
       "7   52          4            9              2           3             0     4   \n",
       "8   31          2           14              4           9             1     4   \n",
       "9   42          2           13              2           3             0     4   \n",
       "\n",
       "   sex  capitalgain  capitalloss  hoursperweek  native  Salary  \n",
       "0    1         2174            0            40      37       0  \n",
       "1    1            0            0            13      37       0  \n",
       "2    1            0            0            40      37       0  \n",
       "3    1            0            0            40      37       0  \n",
       "4    0            0            0            40       4       0  \n",
       "5    0            0            0            40      37       0  \n",
       "6    0            0            0            16      21       0  \n",
       "7    1            0            0            45      37       1  \n",
       "8    0        14084            0            50      37       1  \n",
       "9    1         5178            0            40      37       1  "
      ]
     },
     "execution_count": 33,
     "metadata": {},
     "output_type": "execute_result"
    }
   ],
   "source": [
    "df_final = df_test.copy()\n",
    "label_encoder = preprocessing.LabelEncoder()\n",
    "df_final[\"workclass\"]=label_encoder.fit_transform(df_final[\"workclass\"])\n",
    "df_final[\"maritalstatus\"]=label_encoder.fit_transform(df_final[\"maritalstatus\"])\n",
    "df_final[\"sex\"]=label_encoder.fit_transform(df_final[\"sex\"])\n",
    "df_final[\"race\"]=label_encoder.fit_transform(df_final[\"race\"])\n",
    "df_final[\"occupation\"]=label_encoder.fit_transform(df_final[\"occupation\"])\n",
    "df_final[\"relationship\"]=label_encoder.fit_transform(df_final[\"relationship\"])\n",
    "df_final[\"native\"]=label_encoder.fit_transform(df_final[\"native\"])\n",
    "df_final[\"Salary\"]=label_encoder.fit_transform(df_final[\"Salary\"])\n",
    "\n",
    "df_final.head(10)"
   ]
  },
  {
   "cell_type": "code",
   "execution_count": 34,
   "id": "fceb73fc",
   "metadata": {
    "execution": {
     "iopub.execute_input": "2022-12-31T08:30:19.585471Z",
     "iopub.status.busy": "2022-12-31T08:30:19.585066Z",
     "iopub.status.idle": "2022-12-31T08:30:19.594524Z",
     "shell.execute_reply": "2022-12-31T08:30:19.593124Z"
    },
    "id": "4Da7Lmxt6EmL",
    "papermill": {
     "duration": 0.035328,
     "end_time": "2022-12-31T08:30:19.597346",
     "exception": false,
     "start_time": "2022-12-31T08:30:19.562018",
     "status": "completed"
    },
    "tags": []
   },
   "outputs": [],
   "source": [
    "X_final=df_final.iloc[:,0:12]\n",
    "Y_final=df_final.iloc[:,12]"
   ]
  },
  {
   "cell_type": "code",
   "execution_count": 35,
   "id": "c5d87ceb",
   "metadata": {
    "execution": {
     "iopub.execute_input": "2022-12-31T08:30:19.642032Z",
     "iopub.status.busy": "2022-12-31T08:30:19.641622Z",
     "iopub.status.idle": "2022-12-31T08:30:28.764908Z",
     "shell.execute_reply": "2022-12-31T08:30:28.763738Z"
    },
    "id": "4jbRko5E6MGw",
    "outputId": "9e0cba48-df44-43ca-c760-d496e074c662",
    "papermill": {
     "duration": 9.149845,
     "end_time": "2022-12-31T08:30:28.767666",
     "exception": false,
     "start_time": "2022-12-31T08:30:19.617821",
     "status": "completed"
    },
    "tags": []
   },
   "outputs": [
    {
     "name": "stdout",
     "output_type": "stream",
     "text": [
      "Accuracy = 79.59948277577004\n"
     ]
    },
    {
     "data": {
      "text/plain": [
       "array([[22393,   260],\n",
       "       [ 5893,  1615]])"
      ]
     },
     "execution_count": 35,
     "metadata": {},
     "output_type": "execute_result"
    }
   ],
   "source": [
    "y_pred_final = clf.predict(X_final)\n",
    "acc = accuracy_score(Y_final, y_pred_final) * 100\n",
    "print(\"Accuracy =\", acc)\n",
    "confusion_matrix(Y_final, y_pred_final)"
   ]
  },
  {
   "cell_type": "code",
   "execution_count": 36,
   "id": "2b33a15f",
   "metadata": {
    "execution": {
     "iopub.execute_input": "2022-12-31T08:30:28.816124Z",
     "iopub.status.busy": "2022-12-31T08:30:28.814963Z",
     "iopub.status.idle": "2022-12-31T08:30:37.671676Z",
     "shell.execute_reply": "2022-12-31T08:30:37.670415Z"
    },
    "id": "LYoQPb9NyrQk",
    "outputId": "0b69dabb-0df5-4781-e061-9ebfcf0ca57e",
    "papermill": {
     "duration": 8.882775,
     "end_time": "2022-12-31T08:30:37.675121",
     "exception": false,
     "start_time": "2022-12-31T08:30:28.792346",
     "status": "completed"
    },
    "tags": []
   },
   "outputs": [
    {
     "name": "stdout",
     "output_type": "stream",
     "text": [
      "Accuracy = 84.01246643015816\n",
      "[[21592  1061]\n",
      " [ 3761  3747]]\n"
     ]
    }
   ],
   "source": [
    "rescaledX_final = scaler.transform(X_final)\n",
    "predictions = model.predict(rescaledX_final)\n",
    "print(\"Accuracy =\", accuracy_score(Y_final, predictions)*100)\n",
    "print(confusion_matrix(Y_final, predictions))\n"
   ]
  },
  {
   "cell_type": "code",
   "execution_count": 37,
   "id": "6a475e21",
   "metadata": {
    "execution": {
     "iopub.execute_input": "2022-12-31T08:30:37.716856Z",
     "iopub.status.busy": "2022-12-31T08:30:37.716133Z",
     "iopub.status.idle": "2022-12-31T08:30:37.721412Z",
     "shell.execute_reply": "2022-12-31T08:30:37.719620Z"
    },
    "id": "52UwamL06QiK",
    "papermill": {
     "duration": 0.028805,
     "end_time": "2022-12-31T08:30:37.724105",
     "exception": false,
     "start_time": "2022-12-31T08:30:37.695300",
     "status": "completed"
    },
    "tags": []
   },
   "outputs": [],
   "source": [
    "# prediction = pd.DataFrame(y_pred_final, columns=['predictions']).to_csv('prediction.csv')"
   ]
  }
 ],
 "metadata": {
  "kernelspec": {
   "display_name": "Python 3",
   "language": "python",
   "name": "python3"
  },
  "language_info": {
   "codemirror_mode": {
    "name": "ipython",
    "version": 3
   },
   "file_extension": ".py",
   "mimetype": "text/x-python",
   "name": "python",
   "nbconvert_exporter": "python",
   "pygments_lexer": "ipython3",
   "version": "3.7.12"
  },
  "papermill": {
   "default_parameters": {},
   "duration": 199.015137,
   "end_time": "2022-12-31T08:30:38.666865",
   "environment_variables": {},
   "exception": null,
   "input_path": "__notebook__.ipynb",
   "output_path": "__notebook__.ipynb",
   "parameters": {},
   "start_time": "2022-12-31T08:27:19.651728",
   "version": "2.3.4"
  }
 },
 "nbformat": 4,
 "nbformat_minor": 5
}
